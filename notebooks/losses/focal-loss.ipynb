{
 "cells": [
  {
   "cell_type": "markdown",
   "metadata": {},
   "source": [
    "## imports"
   ]
  },
  {
   "cell_type": "code",
   "execution_count": 25,
   "metadata": {},
   "outputs": [],
   "source": [
    "import torch # '2.2.1+cu121'\n",
    "import torch.nn.functional as F #' 2.2.1+cu121'\n",
    "import torch.nn as nn #' 2.2.1+cu121'"
   ]
  },
  {
   "cell_type": "markdown",
   "metadata": {},
   "source": [
    "## definitions"
   ]
  },
  {
   "cell_type": "markdown",
   "metadata": {},
   "source": [
    "\n",
    "$$\n",
    "focal\\_loss = - (1-p_t)^{\\gamma} * log(p_t)\n",
    "$$\n",
    "\n",
    "$$\n",
    "focal\\_loss = (1-p_t)^{\\gamma} * CE(p_t)\n",
    "$$\n"
   ]
  },
  {
   "cell_type": "markdown",
   "metadata": {},
   "source": [
    "## operations"
   ]
  },
  {
   "cell_type": "markdown",
   "metadata": {},
   "source": [
    "$$\n",
    "(1-p_t)^{\\gamma}\n",
    "$$"
   ]
  },
  {
   "cell_type": "code",
   "execution_count": 18,
   "metadata": {},
   "outputs": [
    {
     "name": "stdout",
     "output_type": "stream",
     "text": [
      "focal term: 4\n",
      "CE loss: 1.31326162815094\n",
      "final loss: 5.25304651260376\n"
     ]
    }
   ],
   "source": [
    "# case 1\n",
    "\n",
    "GAMMA = 2\n",
    "focal_term = (1 - (-1))**GAMMA\n",
    "\n",
    "print(f\"focal term: {focal_term}\")\n",
    "\n",
    "CE_Loss = F.binary_cross_entropy_with_logits(torch.tensor([-1.0]), torch.tensor([1.0]))\n",
    "\n",
    "print(f\"CE loss: {CE_Loss}\")\n",
    "\n",
    "final_loss = focal_term * CE_Loss\n",
    "\n",
    "print(f\"final loss: {final_loss}\")"
   ]
  },
  {
   "cell_type": "code",
   "execution_count": 19,
   "metadata": {},
   "outputs": [
    {
     "name": "stdout",
     "output_type": "stream",
     "text": [
      "focal term: 0.6400000000000001\n",
      "CE loss: 0.5981389284133911\n",
      "final loss: 0.3828088939189911\n"
     ]
    }
   ],
   "source": [
    "#case 2\n",
    "\n",
    "GAMMA = 2\n",
    "focal_term = (1 - 0.2)**GAMMA\n",
    "\n",
    "print(f\"focal term: {focal_term}\")\n",
    "\n",
    "CE_Loss = F.binary_cross_entropy_with_logits(torch.tensor([0.2]), torch.tensor([1.0]))\n",
    "\n",
    "print(f\"CE loss: {CE_Loss}\")\n",
    "\n",
    "final_loss = focal_term * CE_Loss\n",
    "\n",
    "print(f\"final loss: {final_loss}\")"
   ]
  },
  {
   "cell_type": "markdown",
   "metadata": {},
   "source": [
    "**this loss rewards the cases where it is more confident, and where it is wrong, it penalises it heavily.**"
   ]
  },
  {
   "cell_type": "markdown",
   "metadata": {},
   "source": [
    "## understanding alpha"
   ]
  },
  {
   "cell_type": "markdown",
   "metadata": {},
   "source": [
    "$$\n",
    "\\alpha(1-p_t)^{\\gamma}\n",
    "$$"
   ]
  },
  {
   "cell_type": "code",
   "execution_count": 30,
   "metadata": {},
   "outputs": [
    {
     "data": {
      "text/plain": [
       "tensor([0., 0., 0., 0., 1., 0., 0.])"
      ]
     },
     "execution_count": 30,
     "metadata": {},
     "output_type": "execute_result"
    }
   ],
   "source": [
    "# one hot encoding imitation\n",
    "targets = torch.zeros(7)\n",
    "targets[4] = 1\n",
    "targets"
   ]
  },
  {
   "cell_type": "code",
   "execution_count": 31,
   "metadata": {},
   "outputs": [
    {
     "data": {
      "text/plain": [
       "tensor([0.7500, 0.7500, 0.7500, 0.7500, 0.2500, 0.7500, 0.7500])"
      ]
     },
     "execution_count": 31,
     "metadata": {},
     "output_type": "execute_result"
    }
   ],
   "source": [
    "alpha = 0.25\n",
    "targets * alpha + (1 - alpha) * (1 - targets)"
   ]
  },
  {
   "cell_type": "code",
   "execution_count": 36,
   "metadata": {},
   "outputs": [
    {
     "data": {
      "text/plain": [
       "tensor([0.2000, 0.2000, 0.2000, 0.2000, 0.8000, 0.2000, 0.2000])"
      ]
     },
     "execution_count": 36,
     "metadata": {},
     "output_type": "execute_result"
    }
   ],
   "source": [
    "alpha = 0.8\n",
    "targets * alpha + (1 - alpha) * (1 - targets)"
   ]
  },
  {
   "cell_type": "code",
   "execution_count": 33,
   "metadata": {},
   "outputs": [
    {
     "data": {
      "text/plain": [
       "tensor([0.5000, 0.5000, 0.5000, 0.5000, 0.5000, 0.5000, 0.5000])"
      ]
     },
     "execution_count": 33,
     "metadata": {},
     "output_type": "execute_result"
    }
   ],
   "source": [
    "alpha = 0.5\n",
    "targets * alpha + (1 - alpha) * (1 - targets)"
   ]
  },
  {
   "cell_type": "markdown",
   "metadata": {},
   "source": [
    "## torch implementation"
   ]
  },
  {
   "cell_type": "code",
   "execution_count": 48,
   "metadata": {},
   "outputs": [],
   "source": [
    "\n",
    "class FocalLoss(nn.Module):\n",
    "    '''\n",
    "    Focal Loss - https://arxiv.org/abs/1708.02002\n",
    "    '''\n",
    "\n",
    "    def __init__(self, alpha=0.25, gamma=2):\n",
    "        super().__init__()\n",
    "        self.alpha = alpha\n",
    "        self.gamma = gamma\n",
    "\n",
    "    def forward(self, pred_logits, target):\n",
    "        # compute CE\n",
    "        ce = F.binary_cross_entropy_with_logits(pred_logits, target, reduction='none')\n",
    "        \n",
    "        #alpha = target * self.alpha + (1 - target) * (1 - self.alpha)\n",
    "\n",
    "        # if selector\n",
    "        pred = pred_logits.sigmoid() # activation\n",
    "        pt = torch.where(target == 1, pred, 1 - pred) \n",
    "\n",
    "        return alpha * ( (1 - pt) ** self.gamma ) * ce\n",
    "    "
   ]
  },
  {
   "cell_type": "code",
   "execution_count": 49,
   "metadata": {},
   "outputs": [
    {
     "data": {
      "text/plain": [
       "tensor([0.0970])"
      ]
     },
     "execution_count": 49,
     "metadata": {},
     "output_type": "execute_result"
    }
   ],
   "source": [
    "loss = FocalLoss(alpha=1, gamma=2)\n",
    "\n",
    "result = loss(torch.tensor([0.2]), torch.tensor([1.0]))\n",
    "result"
   ]
  }
 ],
 "metadata": {
  "kernelspec": {
   "display_name": "Python 3",
   "language": "python",
   "name": "python3"
  },
  "language_info": {
   "codemirror_mode": {
    "name": "ipython",
    "version": 3
   },
   "file_extension": ".py",
   "mimetype": "text/x-python",
   "name": "python",
   "nbconvert_exporter": "python",
   "pygments_lexer": "ipython3",
   "version": "3.10.12"
  }
 },
 "nbformat": 4,
 "nbformat_minor": 2
}
