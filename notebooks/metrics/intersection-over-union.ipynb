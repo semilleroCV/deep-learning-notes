{
  "nbformat": 4,
  "nbformat_minor": 0,
  "metadata": {
    "colab": {
      "provenance": []
    },
    "kernelspec": {
      "name": "python3",
      "display_name": "Python 3"
    },
    "language_info": {
      "name": "python"
    }
  },
  "cells": [
    {
      "cell_type": "markdown",
      "source": [
        "<image src=\"https://raw.githubusercontent.com/semilleroCV/deep-learning-notes/main/assets/banner-notebook.png\" width=100%>"
      ],
      "metadata": {
        "id": "M1wwX3eCyuPO"
      }
    },
    {
      "cell_type": "markdown",
      "source": [
        "# <font color='#4C5FDA'> **Intersection Over Union (IoU)** </font>"
      ],
      "metadata": {
        "id": "MaBAcPfI0RKH"
      }
    },
    {
      "cell_type": "markdown",
      "source": [
        "The paper **<font color=\"EB9A54\">\"The PASCAL Visual Object Classes (VOC) Challenge\"</font>** introduces Intersection over Union (IoU) as a critical metric for evaluating object detection models. IoU measures the overlap between predicted and ground truth bounding boxes, providing a robust standard for assessing model accuracy. Building on this foundation, the paper **<font color=\"EB9A54\">\"Generalized Intersection over Union: A Metric and A Loss for Bounding Box Regression\"</font>** extends the concept by introducing Generalized IoU (GIoU), which improves model training and performance by offering a more comprehensive evaluation of bounding box regression."
      ],
      "metadata": {
        "id": "iEV5ns6T0Ynt"
      }
    },
    {
      "cell_type": "markdown",
      "source": [
        "$$IOU(\\mathcal{A},\\mathcal{B}) = \\frac{\\left|\\mathcal{A} \\cap \\mathcal{B}\\right|}{\\left| \\mathcal{A} \\cup \\mathcal{B}\\right|}.$$"
      ],
      "metadata": {
        "id": "18LUav2hcNlG"
      }
    },
    {
      "cell_type": "markdown",
      "source": [
        "The mAP(mean average precision) metric in object detection is evaluated based on IoU (Intersection Over Union)."
      ],
      "metadata": {
        "id": "bDjg6i60bdep"
      }
    },
    {
      "cell_type": "markdown",
      "source": [
        "<image src=\"https://raw.githubusercontent.com/semilleroCV/deep-learning-notes/feat/intersection-over-union/assets/feature-image-iou.jpg\" width=100%>"
      ],
      "metadata": {
        "id": "Upy9-GAbcT-v"
      }
    },
    {
      "cell_type": "code",
      "execution_count": 22,
      "metadata": {
        "id": "xYEl0lf0v2vl"
      },
      "outputs": [],
      "source": [
        "import torch\n",
        "import torch.nn as nn\n",
        "import torch.nn.functional as F"
      ]
    },
    {
      "cell_type": "code",
      "source": [
        "print(torch.__version__)"
      ],
      "metadata": {
        "colab": {
          "base_uri": "https://localhost:8080/"
        },
        "id": "6_uXqqwdedqU",
        "outputId": "158eded7-83c3-4bd0-ab19-97b1c97428fb"
      },
      "execution_count": 23,
      "outputs": [
        {
          "output_type": "stream",
          "name": "stdout",
          "text": [
            "2.3.0+cu121\n"
          ]
        }
      ]
    },
    {
      "cell_type": "code",
      "source": [
        "import torch\n",
        "import torch.nn as nn\n",
        "\n",
        "class IoU(nn.Module):\n",
        "    def __init__(self):\n",
        "        super(IoU, self).__init__()\n",
        "\n",
        "    def forward(self, box1, box2):\n",
        "        # Calculate intersection\n",
        "        x1 = torch.max(box1[0], box2[0])\n",
        "        y1 = torch.max(box1[1], box2[1])\n",
        "        x2 = torch.min(box1[2], box2[2])\n",
        "        y2 = torch.min(box1[3], box2[3])\n",
        "\n",
        "        intersection = (x2 - x1).clamp(0) * (y2 - y1).clamp(0)\n",
        "\n",
        "        # Calculate areas in the box\n",
        "        box1_area = (box1[2] - box1[0]) * (box1[3] - box1[1])\n",
        "        box2_area = (box2[2] - box2[0]) * (box2[3] - box2[1])\n",
        "\n",
        "        # Calculate union\n",
        "        union = box1_area + box2_area - intersection\n",
        "\n",
        "        # Calculate IoU\n",
        "        iou = intersection / union\n",
        "        return iou\n"
      ],
      "metadata": {
        "id": "FWOemCQ8g0P4"
      },
      "execution_count": 33,
      "outputs": []
    },
    {
      "cell_type": "code",
      "source": [
        "# Example usage 1\n",
        "box1 = torch.tensor([10, 20, 25, 35], dtype=torch.float)\n",
        "box2 = torch.tensor([10, 20, 30, 40], dtype=torch.float)\n",
        "\n",
        "iou_calculator = IoU()\n",
        "iou = iou_calculator(box1, box2)\n",
        "print(f'IoU: {iou.item()}')"
      ],
      "metadata": {
        "colab": {
          "base_uri": "https://localhost:8080/"
        },
        "id": "NCCqOcI3g9l-",
        "outputId": "5846553d-50b4-45c9-8c0c-51910f92745c"
      },
      "execution_count": 34,
      "outputs": [
        {
          "output_type": "stream",
          "name": "stdout",
          "text": [
            "IoU: 0.5625\n"
          ]
        }
      ]
    },
    {
      "cell_type": "markdown",
      "source": [
        "---\n",
        "# <font color='#4C5FDA'> **References** </font>\n",
        "\n",
        "The PASCAL Visual Object Classes (VOC) Challenge\n",
        "\n",
        "https://link.springer.com/article/10.1007/s11263-009-0275-4\n",
        "\n",
        "Generalized Intersection over Union: A Metric and A Loss for Bounding Box Regression\n",
        "\n",
        "https://arxiv.org/pdf/1902.09630\n",
        "\n",
        "---"
      ],
      "metadata": {
        "id": "g81tr2oajhtQ"
      }
    }
  ]
}