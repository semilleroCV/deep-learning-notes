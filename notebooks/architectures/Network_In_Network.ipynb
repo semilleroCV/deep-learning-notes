{
  "cells": [
    {
      "cell_type": "markdown",
      "metadata": {
        "id": "z8W9ac0nAGFN"
      },
      "source": [
        "<image src=\"https://raw.githubusercontent.com/ramiro999/pytorch-exploration/main/images/Banner-NiN.png\" width=100%>\n"
      ]
    },
    {
      "cell_type": "markdown",
      "metadata": {
        "id": "KilGKoOWAwEQ"
      },
      "source": [
        "# <font color='#4C5FDA'> **Network in Network** </font>"
      ]
    },
    {
      "cell_type": "markdown",
      "metadata": {
        "id": "fL9X1UzXI4qc"
      },
      "source": [
        "El articulo <font color=\"EB9A54\">\"Network In Network\"</font> propone una arquitectura avanzada que mejora las capacidades de las redes neuronales convolucionales (CNN) tradicionales mediante el uso de microrredes neuronales, concretamente perceptrones multicapa (MLP), dentro de cada capa convolucional. Esta estructura permite una representación más abstracta de los datos en cada capa, mejorando potencialmente el rendimiento de la clasificación."
      ]
    },
    {
      "cell_type": "markdown",
      "metadata": {
        "id": "SFcMKdDCJq7R"
      },
      "source": [
        "<image src=\"https://raw.githubusercontent.com/ramiro999/pytorch-exploration/main/images/NiN-1.png\" >\n",
        "\n",
        "\n"
      ]
    },
    {
      "cell_type": "markdown",
      "metadata": {
        "id": "PLGH6JhyKTpi"
      },
      "source": [
        "<image src=\"https://raw.githubusercontent.com/ramiro999/pytorch-exploration/main/images/NiN-2.png\" >"
      ]
    },
    {
      "cell_type": "markdown",
      "metadata": {
        "id": "w2SxTPEwKmZJ"
      },
      "source": [
        "<font color=\"EB9A54\">Capa de Convolución MLP (mlpconv): </font> Esta capa sustituye la convolución lineal estándar en las CNNs por un mini MLP que procesa cada parche de la imagen de entrada. Es una combinación de múltiples capas totalmente conectadas con activaciones ReLU.\n",
        "\n",
        "<font color=\"EB9A54\"> Global Average Pooling (GAP): </font> en lugar de utilizar capas totalmente conectadas en la parte superior de la red, la NIN utiliza una capa de agrupación de promedios globales seguida de una activación softmax para la clasificación. Esto reduce el número total de parámetros y ayuda a reducir el sobreajuste."
      ]
    },
    {
      "cell_type": "code",
      "execution_count": null,
      "metadata": {
        "id": "nKlhanBzo69p"
      },
      "outputs": [],
      "source": [
        "import torch\n",
        "import torch.nn as nn\n",
        "import torch.nn.functional as F"
      ]
    },
    {
      "cell_type": "code",
      "execution_count": null,
      "metadata": {
        "id": "WmjUKOUXK21K"
      },
      "outputs": [],
      "source": [
        "class MLPConv(nn.Module):\n",
        "  def __init__(self, in_channels, out_channels, kernel_size, stride=1, padding=0):\n",
        "    super(MLPConv, self).__init__()\n",
        "    # Las 3 capas definidas\n",
        "    self.conv = nn.Conv2d(in_channels, out_channels, kernel_size, stride, padding)\n",
        "    self.fc1 = nn.Conv2d(out_channels, out_channels, 1)\n",
        "    self.fc2 = nn.Conv2d(out_channels, out_channels, 1)\n",
        "\n",
        "\n",
        "  # El metodo forward de la clase define como los datos de entrada son procesados a traves de la red.\n",
        "  def forward(self, x):\n",
        "    x = self.conv(x)\n",
        "    x = F.relu(x)\n",
        "    x = self.fc1(x)\n",
        "    x = F.relu(x)\n",
        "    x = self.fc2(x)\n",
        "    x = F.relu(x)\n",
        "    return x"
      ]
    },
    {
      "cell_type": "code",
      "execution_count": null,
      "metadata": {
        "id": "PH2ib51HMWjz"
      },
      "outputs": [],
      "source": [
        "class NIN(nn.Module):\n",
        "  def __init__(self, num_classes=10):\n",
        "    super(NIN, self).__init__()\n",
        "    # Primer capa MLPConv: procesa la imagen de entrada\n",
        "    self.mlpconv1 = MLPConv(3, 192, kernel_size=5, padding=2)\n",
        "    # Segunda capa MLPConv: procesamiento mas profundo de caracteristicas\n",
        "    self.mlpconv2 = MLPConv(192, 160, kernel_size=5, padding=2)\n",
        "    # Procesamiento mas profundo antes de reducir la resolución.\n",
        "    self.mlpconv3 = MLPConv(160, 96, kernel_size=5, padding=2)\n",
        "    # Capa de agrupacion promedio para reducir las dimensiones espaciales\n",
        "    self.pooling = nn.AvgPool2d(kernel_size=3, stride=2, padding=1)\n",
        "    # Capas MLPConv adicionales despues de la reduccion de resolucion\n",
        "    self.mlpconv4 = MLPConv(96, 192, kernel_size=3, padding=1)\n",
        "    # Convoluciones 1x1 que actuan antes de combinar las caracteristicas antes de la clasificación final.\n",
        "    self.mlpconv5 = MLPConv(192, 192, kernel_size=1)\n",
        "    self.mlpconv6 = MLPConv(192, 10, kernel_size=1)\n",
        "    # Agrupamiento promedio global para agregar datos espaciales.\n",
        "    self.global_avg_pool = nn.AdaptiveAvgPool2d(1)\n",
        "\n",
        "  def forward(self,x):\n",
        "    # Pase sequencialmente a traves de las 3 primeras capas con agrupamiento.\n",
        "    x = self.mlpconv1(x)\n",
        "    x = self.pooling(x)\n",
        "    x = self.mlpconv2(x)\n",
        "    x = self.pooling(x)\n",
        "    x = self.mlpconv3(x)\n",
        "    x = self.pooling(x)\n",
        "    # Capas adicionales sin agrupacion intermedia.\n",
        "    x = self.mlpconv4(x)\n",
        "    x = self.mlpconv5(x)\n",
        "    x = self.mlpconv6(x)\n",
        "    # Aplicar agrupamiento global promedio para preparar la clasificacion.\n",
        "    x = self.global_avg_pool(x)\n",
        "    # Aplanar la salida para la capa de clasificacion final.\n",
        "    x = x.view(x.size(0), -1)\n",
        "    return x\n",
        "\n",
        "model = NIN(num_classes=10)\n"
      ]
    },
    {
      "cell_type": "markdown",
      "metadata": {
        "id": "kzlcm4KFA51g"
      },
      "source": [
        "---\n",
        "# <font color='#4C5FDA'> **Referencias** </font>\n",
        "\n",
        "Network In Network\n",
        "\n",
        "https://arxiv.org/pdf/1312.4400\n",
        "\n",
        "---"
      ]
    },
    {
      "cell_type": "markdown",
      "metadata": {
        "id": "8XSfIiPAopug"
      },
      "source": [
        "**Elaborado por Ramiro Santiago Avila Chacon**"
      ]
    }
  ],
  "metadata": {
    "colab": {
      "provenance": []
    },
    "kernelspec": {
      "display_name": "Python 3",
      "name": "python3"
    },
    "language_info": {
      "name": "python"
    }
  },
  "nbformat": 4,
  "nbformat_minor": 0
}