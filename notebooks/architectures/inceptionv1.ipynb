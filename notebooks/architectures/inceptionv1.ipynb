{
 "cells": [
  {
   "cell_type": "markdown",
   "metadata": {},
   "source": [
    "[![deep-learning-notes](https://github.com/semilleroCV/deep-learning-notes/raw/main/assets/banner-notebook.png)](https://github.com/semilleroCV/deep-learning-notes)"
   ]
  },
  {
   "cell_type": "markdown",
   "metadata": {},
   "source": [
    "## Inception V1"
   ]
  },
  {
   "cell_type": "code",
   "execution_count": 1,
   "metadata": {},
   "outputs": [],
   "source": [
    "%%capture\n",
    "#@title **Install required packages**\n",
    "\n",
    "! pip install torchmetrics"
   ]
  },
  {
   "cell_type": "code",
   "execution_count": 2,
   "metadata": {},
   "outputs": [],
   "source": [
    "#@title **Importing libraries**\n",
    "\n",
    "import torch # 2.3.1+cu121\n",
    "import torchinfo #1.8.0\n",
    "\n",
    "import torch.nn as nn"
   ]
  },
  {
   "cell_type": "code",
   "execution_count": 3,
   "metadata": {},
   "outputs": [
    {
     "name": "stdout",
     "output_type": "stream",
     "text": [
      "torch version: 2.3.1+cu121\n",
      "torchinfo version: 1.8.0\n"
     ]
    }
   ],
   "source": [
    "# Note: Not all dependencies have the __version__ method.\n",
    "\n",
    "print(f\"torch version: {torch.__version__}\")\n",
    "print(f\"torchinfo version: {torchinfo.__version__}\")"
   ]
  },
  {
   "cell_type": "markdown",
   "metadata": {},
   "source": [
    "#### Inception V1 architecture code"
   ]
  },
  {
   "cell_type": "code",
   "execution_count": 4,
   "metadata": {},
   "outputs": [],
   "source": [
    "class ConvBlock(nn.Module):\n",
    "  def __init__(self, in_channels: int, out_channels: int, kernel_size: int, stride: int, padding: int):\n",
    "    super(ConvBlock, self).__init__()\n",
    "\n",
    "    self.conv_blk = nn.Sequential(\n",
    "        nn.Conv2d(in_channels, out_channels, kernel_size, stride, padding, bias=False),\n",
    "        nn.BatchNorm2d(out_channels),\n",
    "        nn.ReLU(inplace=True)\n",
    "    )\n",
    "\n",
    "  def forward(self, x):\n",
    "    x = self.conv_blk(x)\n",
    "    return x\n",
    "\n",
    "\n",
    "class InceptionBlock(nn.Module):\n",
    "  def __init__(self, in_channels: int, output_1x1: int, reduction_3x3: int, output_3x3: int,\n",
    "               reduction_5x5: int, output_5x5: int, output_pooling: int):\n",
    "    super(InceptionBlock, self).__init__()\n",
    "\n",
    "    \"output_1x1, reduction_3x3, output_3x3 , reduction_5x5 , output_5x5 , out_pooling\"\n",
    "\n",
    "    self.branch_1 = ConvBlock(in_channels, output_1x1, kernel_size=1, stride=1, padding=0)\n",
    "\n",
    "    self.branch_2 = nn.Sequential()\n",
    "    self.branch_2.add_module(\"b2_conv1\", ConvBlock(in_channels, reduction_3x3, kernel_size=1, stride=1, padding=0))\n",
    "    self.branch_2.add_module(\"b2_conv2\", ConvBlock(reduction_3x3, output_3x3, kernel_size=3, stride=1, padding=1))\n",
    "\n",
    "    self.branch_3 = nn.Sequential()\n",
    "    self.branch_3.add_module(\"b3_conv1\", ConvBlock(in_channels, reduction_5x5, kernel_size=1, stride=1, padding=0))\n",
    "    self.branch_3.add_module(\"b3_conv2\", ConvBlock(reduction_5x5, output_5x5, kernel_size=5, stride=1, padding=2))\n",
    "\n",
    "    self.branch_4 = nn.Sequential()\n",
    "    self.branch_4.add_module(\"b4_pool\", nn.MaxPool2d(kernel_size=3, stride=1, padding=1))\n",
    "    self.branch_4.add_module(\"b4_conv1\", ConvBlock(in_channels, output_pooling, kernel_size=1, stride=1, padding=0))\n",
    "\n",
    "  def forward(self, x):\n",
    "    branch_1 = self.branch_1(x)\n",
    "    branch_2 = self.branch_2(x)\n",
    "    branch_3 = self.branch_3(x)\n",
    "    branch_4 = self.branch_4(x)\n",
    "\n",
    "    return torch.cat([branch_1, branch_2, branch_3, branch_4], dim=1)\n",
    "\n",
    "\n",
    "class InceptionV1(nn.Module):\n",
    "  def __init__(self, in_channels, num_classes: int):\n",
    "    super(InceptionV1, self).__init__()\n",
    "\n",
    "    self.Inceptionv1 = nn.Sequential()\n",
    "\n",
    "    \"\"\"conv1, maxpool1\"\"\"\n",
    "    self.Inceptionv1.add_module(\"conv1\", ConvBlock(in_channels, 64, kernel_size=7, stride=2, padding=3)) \n",
    "    self.Inceptionv1.add_module(\"pool1\", nn.MaxPool2d(kernel_size=3, stride=2, padding=1))\n",
    "\n",
    "    \"\"\"conv2, maxpool2\"\"\"\n",
    "    self.Inceptionv1.add_module(\"conv2\", ConvBlock(64, 64, kernel_size=1, stride=1, padding=0))\n",
    "    self.Inceptionv1.add_module(\"conv3\", ConvBlock(64, 192, kernel_size=3, stride=1, padding=1)) \n",
    "    self.Inceptionv1.add_module(\"pool2\", nn.MaxPool2d(kernel_size=3, stride=2, padding=1))\n",
    "\n",
    "    \"\"\"inception 3a, inception 3b and maxpool\"\"\"\n",
    "    self.Inceptionv1.add_module(\"Incept_3a\", InceptionBlock(192, 64, 96, 128, 16, 32, 32))\n",
    "    self.Inceptionv1.add_module(\"Incept_3b\", InceptionBlock(256, 128, 128, 192, 32, 96, 64))\n",
    "    self.Inceptionv1.add_module(\"pool3\", nn.MaxPool2d(kernel_size=3, stride=2, padding=1))\n",
    "\n",
    "    \"\"\"inception 4a, 4b, 4c, 4d, 4e and maxpool\"\"\"\n",
    "\n",
    "    self.Inceptionv1.add_module(\"Incept_4a\", InceptionBlock(480, 192, 96, 208, 16, 48, 64))\n",
    "    self.Inceptionv1.add_module(\"Incept_4b\", InceptionBlock(512, 160, 112, 224, 24, 64, 64))\n",
    "    self.Inceptionv1.add_module(\"Incept_4c\", InceptionBlock(512, 128, 128, 256, 24, 64, 64))\n",
    "    self.Inceptionv1.add_module(\"Incept_4d\", InceptionBlock(512, 112, 144, 288, 32, 64, 64))\n",
    "    self.Inceptionv1.add_module(\"Incept_4e\", InceptionBlock(528, 256, 160, 320, 32, 128, 128))\n",
    "    self.Inceptionv1.add_module(\"pool4\", nn.MaxPool2d(kernel_size=3, stride=2, padding=1))\n",
    "\n",
    "    \"\"\"inception 5a, 5b and avgpool\"\"\"\n",
    "\n",
    "    self.Inceptionv1.add_module(\"Incept_5a\", InceptionBlock(832, 256, 160, 320, 32, 128, 128))\n",
    "    self.Inceptionv1.add_module(\"Incept_5b\", InceptionBlock(832, 384, 192, 384, 48, 128, 128))\n",
    "    self.Inceptionv1.add_module(\"pool5\", nn.AdaptiveAvgPool2d((1, 1)))\n",
    "\n",
    "    \"\"\" droput, flatten and linear (fc)\"\"\"\n",
    "    self.Inceptionv1.add_module(\"dropout\", nn.Dropout(p=0.4))\n",
    "    self.Inceptionv1.add_module(\"flatten\", nn.Flatten())\n",
    "    self.Inceptionv1.add_module(\"fc\", nn.Linear(1024, num_classes))\n",
    "\n",
    "  def forward(self, x):\n",
    "    x = self.Inceptionv1(x)\n",
    "    return x"
   ]
  },
  {
   "cell_type": "code",
   "execution_count": 5,
   "metadata": {},
   "outputs": [
    {
     "data": {
      "text/plain": [
       "====================================================================================================\n",
       "Layer (type:depth-idx)                             Output Shape              Param #\n",
       "====================================================================================================\n",
       "InceptionV1                                        [1, 1000]                 --\n",
       "├─Sequential: 1-1                                  [1, 1000]                 --\n",
       "│    └─ConvBlock: 2-1                              [1, 64, 112, 112]         --\n",
       "│    │    └─Sequential: 3-1                        [1, 64, 112, 112]         9,536\n",
       "│    └─MaxPool2d: 2-2                              [1, 64, 56, 56]           --\n",
       "│    └─ConvBlock: 2-3                              [1, 64, 56, 56]           --\n",
       "│    │    └─Sequential: 3-2                        [1, 64, 56, 56]           4,224\n",
       "│    └─ConvBlock: 2-4                              [1, 192, 56, 56]          --\n",
       "│    │    └─Sequential: 3-3                        [1, 192, 56, 56]          110,976\n",
       "│    └─MaxPool2d: 2-5                              [1, 192, 28, 28]          --\n",
       "│    └─InceptionBlock: 2-6                         [1, 256, 28, 28]          --\n",
       "│    │    └─ConvBlock: 3-4                         [1, 64, 28, 28]           12,416\n",
       "│    │    └─Sequential: 3-5                        [1, 128, 28, 28]          129,472\n",
       "│    │    └─Sequential: 3-6                        [1, 32, 28, 28]           15,968\n",
       "│    │    └─Sequential: 3-7                        [1, 32, 28, 28]           6,208\n",
       "│    └─InceptionBlock: 2-7                         [1, 480, 28, 28]          --\n",
       "│    │    └─ConvBlock: 3-8                         [1, 128, 28, 28]          33,024\n",
       "│    │    └─Sequential: 3-9                        [1, 192, 28, 28]          254,592\n",
       "│    │    └─Sequential: 3-10                       [1, 96, 28, 28]           85,248\n",
       "│    │    └─Sequential: 3-11                       [1, 64, 28, 28]           16,512\n",
       "│    └─MaxPool2d: 2-8                              [1, 480, 14, 14]          --\n",
       "│    └─InceptionBlock: 2-9                         [1, 512, 14, 14]          --\n",
       "│    │    └─ConvBlock: 3-12                        [1, 192, 14, 14]          92,544\n",
       "│    │    └─Sequential: 3-13                       [1, 208, 14, 14]          226,400\n",
       "│    │    └─Sequential: 3-14                       [1, 48, 14, 14]           27,008\n",
       "│    │    └─Sequential: 3-15                       [1, 64, 14, 14]           30,848\n",
       "│    └─InceptionBlock: 2-10                        [1, 512, 14, 14]          --\n",
       "│    │    └─ConvBlock: 3-16                        [1, 160, 14, 14]          82,240\n",
       "│    │    └─Sequential: 3-17                       [1, 224, 14, 14]          283,808\n",
       "│    │    └─Sequential: 3-18                       [1, 64, 14, 14]           50,864\n",
       "│    │    └─Sequential: 3-19                       [1, 64, 14, 14]           32,896\n",
       "│    └─InceptionBlock: 2-11                        [1, 512, 14, 14]          --\n",
       "│    │    └─ConvBlock: 3-20                        [1, 128, 14, 14]          65,792\n",
       "│    │    └─Sequential: 3-21                       [1, 256, 14, 14]          361,216\n",
       "│    │    └─Sequential: 3-22                       [1, 64, 14, 14]           50,864\n",
       "│    │    └─Sequential: 3-23                       [1, 64, 14, 14]           32,896\n",
       "│    └─InceptionBlock: 2-12                        [1, 528, 14, 14]          --\n",
       "│    │    └─ConvBlock: 3-24                        [1, 112, 14, 14]          57,568\n",
       "│    │    └─Sequential: 3-25                       [1, 288, 14, 14]          447,840\n",
       "│    │    └─Sequential: 3-26                       [1, 64, 14, 14]           67,776\n",
       "│    │    └─Sequential: 3-27                       [1, 64, 14, 14]           32,896\n",
       "│    └─InceptionBlock: 2-13                        [1, 832, 14, 14]          --\n",
       "│    │    └─ConvBlock: 3-28                        [1, 256, 14, 14]          135,680\n",
       "│    │    └─Sequential: 3-29                       [1, 320, 14, 14]          546,240\n",
       "│    │    └─Sequential: 3-30                       [1, 128, 14, 14]          119,616\n",
       "│    │    └─Sequential: 3-31                       [1, 128, 14, 14]          67,840\n",
       "│    └─MaxPool2d: 2-14                             [1, 832, 7, 7]            --\n",
       "│    └─InceptionBlock: 2-15                        [1, 832, 7, 7]            --\n",
       "│    │    └─ConvBlock: 3-32                        [1, 256, 7, 7]            213,504\n",
       "│    │    └─Sequential: 3-33                       [1, 320, 7, 7]            594,880\n",
       "│    │    └─Sequential: 3-34                       [1, 128, 7, 7]            129,344\n",
       "│    │    └─Sequential: 3-35                       [1, 128, 7, 7]            106,752\n",
       "│    └─InceptionBlock: 2-16                        [1, 1024, 7, 7]           --\n",
       "│    │    └─ConvBlock: 3-36                        [1, 384, 7, 7]            320,256\n",
       "│    │    └─Sequential: 3-37                       [1, 384, 7, 7]            824,448\n",
       "│    │    └─Sequential: 3-38                       [1, 128, 7, 7]            193,888\n",
       "│    │    └─Sequential: 3-39                       [1, 128, 7, 7]            106,752\n",
       "│    └─AdaptiveAvgPool2d: 2-17                     [1, 1024, 1, 1]           --\n",
       "│    └─Dropout: 2-18                               [1, 1024, 1, 1]           --\n",
       "│    └─Flatten: 2-19                               [1, 1024]                 --\n",
       "│    └─Linear: 2-20                                [1, 1000]                 1,025,000\n",
       "====================================================================================================\n",
       "Total params: 7,005,832\n",
       "Trainable params: 7,005,832\n",
       "Non-trainable params: 0\n",
       "Total mult-adds (G): 1.58\n",
       "====================================================================================================\n",
       "Input size (MB): 0.60\n",
       "Forward/backward pass size (MB): 51.63\n",
       "Params size (MB): 28.02\n",
       "Estimated Total Size (MB): 80.25\n",
       "===================================================================================================="
      ]
     },
     "execution_count": 5,
     "metadata": {},
     "output_type": "execute_result"
    }
   ],
   "source": [
    "model = InceptionV1(in_channels=3, num_classes=1000)\n",
    "torchinfo.summary(model, (3, 224, 224), batch_dim = 0)"
   ]
  }
 ],
 "metadata": {
  "kernelspec": {
   "display_name": "Python 3",
   "language": "python",
   "name": "python3"
  },
  "language_info": {
   "codemirror_mode": {
    "name": "ipython",
    "version": 3
   },
   "file_extension": ".py",
   "mimetype": "text/x-python",
   "name": "python",
   "nbconvert_exporter": "python",
   "pygments_lexer": "ipython3",
   "version": "3.10.12"
  }
 },
 "nbformat": 4,
 "nbformat_minor": 2
}
