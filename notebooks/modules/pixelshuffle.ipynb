{
 "cells": [
  {
   "cell_type": "code",
   "execution_count": 1,
   "metadata": {},
   "outputs": [],
   "source": [
    "import torch # '2.0.0+cpu'\n",
    "import torch.nn.functional as F # '2.0.0+cpu'\n",
    "import matplotlib.pyplot as plt # '3.7.1'\n"
   ]
  },
  {
   "cell_type": "markdown",
   "metadata": {},
   "source": [
    "this layer is useful for upsampling without deconvolution layers, we can do the upsampling inside a network with normal convolution layers followed by a pixell shuffle layer. This is useful for super resolution tasks."
   ]
  },
  {
   "cell_type": "code",
   "execution_count": 4,
   "metadata": {},
   "outputs": [
    {
     "name": "stdout",
     "output_type": "stream",
     "text": [
      "tensor base shape:  torch.Size([1, 4, 4, 4])\n",
      "High-resolution tensor shape:  torch.Size([1, 1, 8, 8])\n"
     ]
    }
   ],
   "source": [
    "batch_size = 1\n",
    "in_channels = 1\n",
    "upscale_factor = 2\n",
    "C = in_channels * (upscale_factor ** 2)\n",
    "\n",
    "H, W = 4, 4\n",
    "\n",
    "lr_tensor = torch.randn(batch_size, C, H, W)\n",
    "\n",
    "pixel_shuffle = torch.nn.PixelShuffle(upscale_factor) # this is the importante layer here\n",
    "\n",
    "hr_tensor = pixel_shuffle(lr_tensor)\n",
    "\n",
    "print(\"tensor base shape: \", lr_tensor.shape)\n",
    "print(\"High-resolution tensor shape: \", hr_tensor.shape)"
   ]
  },
  {
   "cell_type": "markdown",
   "metadata": {},
   "source": [
    "demonstration of its equivalence with transposed convolution"
   ]
  },
  {
   "cell_type": "code",
   "execution_count": 58,
   "metadata": {},
   "outputs": [
    {
     "data": {
      "text/plain": [
       "<matplotlib.image.AxesImage at 0x17deb706b00>"
      ]
     },
     "execution_count": 58,
     "metadata": {},
     "output_type": "execute_result"
    },
    {
     "data": {
      "image/png": "[encoded data removed]",
      "text/plain": [
       "<Figure size 640x480 with 1 Axes>"
      ]
     },
     "metadata": {},
     "output_type": "display_data"
    }
   ],
   "source": [
    "image = torch.ones(1, 1, 4, 4)\n",
    "\n",
    "\n",
    "kernel_deconv = torch.tensor(\n",
    "    [[1,2,1,2],\n",
    "     [3,4,3,4],\n",
    "     [1,2,1,2],\n",
    "     [3,4,3,4]]\n",
    ").float()\n",
    "\n",
    "plt.imshow(kernel_deconv.numpy(), vmin=0, vmax=4, cmap='Paired')"
   ]
  },
  {
   "cell_type": "code",
   "execution_count": 92,
   "metadata": {},
   "outputs": [
    {
     "data": {
      "text/plain": [
       "torch.Size([1, 1, 4, 4])"
      ]
     },
     "execution_count": 92,
     "metadata": {},
     "output_type": "execute_result"
    }
   ],
   "source": [
    "image.shape"
   ]
  },
  {
   "cell_type": "code",
   "execution_count": 90,
   "metadata": {},
   "outputs": [
    {
     "name": "stdout",
     "output_type": "stream",
     "text": [
      "torch.Size([1, 1, 13, 13])\n"
     ]
    },
    {
     "data": {
      "text/plain": [
       "<matplotlib.image.AxesImage at 0x17dee0734f0>"
      ]
     },
     "execution_count": 90,
     "metadata": {},
     "output_type": "execute_result"
    },
    {
     "data": {
      "image/png": "[encoded data removed]",
      "text/plain": [
       "<Figure size 640x480 with 1 Axes>"
      ]
     },
     "metadata": {},
     "output_type": "display_data"
    }
   ],
   "source": [
    "deconv = F.conv_transpose2d(image, kernel_deconv.unsqueeze(0).unsqueeze(0), stride=(3,3), padding=0)\n",
    "print(deconv.shape)\n",
    "\n",
    "plt.imshow(deconv.squeeze().numpy(), vmin=0, cmap='Paired')"
   ]
  },
  {
   "cell_type": "code",
   "execution_count": 80,
   "metadata": {},
   "outputs": [
    {
     "data": {
      "text/plain": [
       "tensor([[[[ 4.,  3.,  7.,  4.,  3.,  7.,  4.,  3.,  7.,  4.,  3.],\n",
       "          [ 2.,  1.,  3.,  2.,  1.,  3.,  2.,  1.,  3.,  2.,  1.],\n",
       "          [ 6.,  4., 10.,  6.,  4., 10.,  6.,  4., 10.,  6.,  4.],\n",
       "          [ 4.,  3.,  7.,  4.,  3.,  7.,  4.,  3.,  7.,  4.,  3.],\n",
       "          [ 2.,  1.,  3.,  2.,  1.,  3.,  2.,  1.,  3.,  2.,  1.],\n",
       "          [ 6.,  4., 10.,  6.,  4., 10.,  6.,  4., 10.,  6.,  4.],\n",
       "          [ 4.,  3.,  7.,  4.,  3.,  7.,  4.,  3.,  7.,  4.,  3.],\n",
       "          [ 2.,  1.,  3.,  2.,  1.,  3.,  2.,  1.,  3.,  2.,  1.],\n",
       "          [ 6.,  4., 10.,  6.,  4., 10.,  6.,  4., 10.,  6.,  4.],\n",
       "          [ 4.,  3.,  7.,  4.,  3.,  7.,  4.,  3.,  7.,  4.,  3.],\n",
       "          [ 2.,  1.,  3.,  2.,  1.,  3.,  2.,  1.,  3.,  2.,  1.]]]])"
      ]
     },
     "execution_count": 80,
     "metadata": {},
     "output_type": "execute_result"
    }
   ],
   "source": [
    "deconv"
   ]
  },
  {
   "cell_type": "code",
   "execution_count": 64,
   "metadata": {},
   "outputs": [
    {
     "name": "stdout",
     "output_type": "stream",
     "text": [
      "torch.Size([1, 1, 6, 6])\n"
     ]
    },
    {
     "data": {
      "text/plain": [
       "<matplotlib.image.AxesImage at 0x17deb764970>"
      ]
     },
     "execution_count": 64,
     "metadata": {},
     "output_type": "execute_result"
    },
    {
     "data": {
      "image/png": "[encoded data removed]",
      "text/plain": [
       "<Figure size 640x480 with 1 Axes>"
      ]
     },
     "metadata": {},
     "output_type": "display_data"
    }
   ],
   "source": [
    "# now implement with a convolutional layer followed by a pixel shuffle layer\n",
    "tensor1 = torch.ones(1, 2, 2)\n",
    "tensor2 = torch.ones(1, 2, 2) * 2\n",
    "tensor3 = torch.ones(1, 2, 2) * 3\n",
    "tensor4 = torch.ones(1, 2, 2) * 4\n",
    "\n",
    "# Concatenar los tensores a lo largo de una nueva dimensión\n",
    "concatenated_tensor = torch.cat((tensor1, tensor2, tensor3, tensor4), dim=0)\n",
    "\n",
    "result = F.conv2d(image, concatenated_tensor.unsqueeze(1), stride=1, padding=0)\n",
    "pixel_shuffle = torch.nn.PixelShuffle(2)\n",
    "\n",
    "deconv = pixel_shuffle(result)\n",
    "print(deconv.shape)\n",
    "\n",
    "plt.imshow(deconv.squeeze().numpy(), vmin=0, cmap='Paired')"
   ]
  }
 ],
 "metadata": {
  "kernelspec": {
   "display_name": "base",
   "language": "python",
   "name": "python3"
  },
  "language_info": {
   "codemirror_mode": {
    "name": "ipython",
    "version": 3
   },
   "file_extension": ".py",
   "mimetype": "text/x-python",
   "name": "python",
   "nbconvert_exporter": "python",
   "pygments_lexer": "ipython3",
   "version": "3.10.9"
  }
 },
 "nbformat": 4,
 "nbformat_minor": 2
}
