{
 "cells": [
  {
   "cell_type": "code",
   "execution_count": 1,
   "metadata": {},
   "outputs": [],
   "source": [
    "import torch # '2.0.0+cpu'\n",
    "import torch.nn.functional as F # '2.0.0+cpu'\n",
    "import matplotlib.pyplot as plt # '3.7.1'\n"
   ]
  },
  {
   "cell_type": "markdown",
   "metadata": {},
   "source": [
    "this layer is useful for upsampling without deconvolution layers, we can do the upsampling inside a network with normal convolution layers followed by a pixell shuffle layer. This is useful for super resolution tasks.\n",
    "\n",
    "this layer was proposed in this paper: https://arxiv.org/pdf/1609.05158, for the task of super-resolution\n",
    "\n",
    "today this can be used for upsampling the output of a network to a desired size, or inside a network to match resolution of feature maps"
   ]
  },
  {
   "cell_type": "code",
   "execution_count": 2,
   "metadata": {},
   "outputs": [
    {
     "name": "stdout",
     "output_type": "stream",
     "text": [
      "tensor base shape:  torch.Size([1, 4, 4, 4])\n",
      "High-resolution tensor shape:  torch.Size([1, 1, 8, 8])\n"
     ]
    }
   ],
   "source": [
    "batch_size = 1\n",
    "in_channels = 1\n",
    "upscale_factor = 2 # 2x upscaling\n",
    "C = in_channels * (upscale_factor ** 2)\n",
    "\n",
    "H, W = 4, 4\n",
    "\n",
    "lr_tensor = torch.randn(batch_size, C, H, W)\n",
    "\n",
    "pixel_shuffle = torch.nn.PixelShuffle(upscale_factor) # this is the importante layer here\n",
    "\n",
    "hr_tensor = pixel_shuffle(lr_tensor)\n",
    "\n",
    "print(\"tensor base shape: \", lr_tensor.shape)\n",
    "print(\"High-resolution tensor shape: \", hr_tensor.shape)"
   ]
  },
  {
   "cell_type": "markdown",
   "metadata": {},
   "source": [
    "demonstration of its equivalence with transposed convolution \n",
    "\n",
    "we have the pytorch implementation of the example given here: https://arxiv.org/pdf/1609.07009"
   ]
  },
  {
   "cell_type": "code",
   "execution_count": 3,
   "metadata": {},
   "outputs": [
    {
     "data": {
      "text/plain": [
       "<matplotlib.image.AxesImage at 0x70ac12ad1390>"
      ]
     },
     "execution_count": 3,
     "metadata": {},
     "output_type": "execute_result"
    },
    {
     "data": {
      "image/png": "[encoded data removed]",
      "text/plain": [
       "<Figure size 640x480 with 1 Axes>"
      ]
     },
     "metadata": {},
     "output_type": "display_data"
    }
   ],
   "source": [
    "image = torch.ones(1, 1, 4, 4)\n",
    "\n",
    "kernel_deconv = torch.tensor(\n",
    "    [[1,2,1,2],\n",
    "     [3,4,3,4],\n",
    "     [1,2,1,2],\n",
    "     [3,4,3,4]]\n",
    ").float()\n",
    "\n",
    "plt.imshow(kernel_deconv.numpy(), vmin=0, vmax=4, cmap='Paired')"
   ]
  },
  {
   "cell_type": "code",
   "execution_count": 12,
   "metadata": {},
   "outputs": [
    {
     "data": {
      "text/plain": [
       "(torch.Size([1, 1, 4, 4]), torch.Size([1, 1, 4, 4]))"
      ]
     },
     "execution_count": 12,
     "metadata": {},
     "output_type": "execute_result"
    }
   ],
   "source": [
    "image.shape, kernel_deconv.unsqueeze(0).unsqueeze(0).shape"
   ]
  },
  {
   "cell_type": "code",
   "execution_count": 84,
   "metadata": {},
   "outputs": [
    {
     "name": "stdout",
     "output_type": "stream",
     "text": [
      "torch.Size([1, 1, 8, 8])\n"
     ]
    },
    {
     "data": {
      "text/plain": [
       "<matplotlib.image.AxesImage at 0x70ac08fb1900>"
      ]
     },
     "execution_count": 84,
     "metadata": {},
     "output_type": "execute_result"
    },
    {
     "data": {
      "image/png": "[encoded data removed]",
      "text/plain": [
       "<Figure size 640x480 with 1 Axes>"
      ]
     },
     "metadata": {},
     "output_type": "display_data"
    }
   ],
   "source": [
    "# pad as in the paper\n",
    "# this padding is just for the example, with other paddings the demostration is equivalent\n",
    "image2 = F.pad(image, (0, 1, 0, 1), value=1)\n",
    "\n",
    "# deconv\n",
    "deconv = F.conv_transpose2d(image2, kernel_deconv.unsqueeze(0).unsqueeze(0), stride=(2,2), padding=2)\n",
    "print(deconv.shape)\n",
    "\n",
    "plt.imshow(deconv.squeeze().numpy(), vmin=0, cmap='Paired')"
   ]
  },
  {
   "cell_type": "code",
   "execution_count": 95,
   "metadata": {},
   "outputs": [
    {
     "name": "stdout",
     "output_type": "stream",
     "text": [
      "torch.Size([1, 4, 4, 4])\n",
      "torch.Size([1, 1, 8, 8])\n"
     ]
    },
    {
     "data": {
      "text/plain": [
       "<matplotlib.image.AxesImage at 0x70ac03d78a60>"
      ]
     },
     "execution_count": 95,
     "metadata": {},
     "output_type": "execute_result"
    },
    {
     "data": {
      "image/png": "[encoded data removed]",
      "text/plain": [
       "<Figure size 640x480 with 1 Axes>"
      ]
     },
     "metadata": {},
     "output_type": "display_data"
    }
   ],
   "source": [
    "tensor1 = torch.ones(1, 2, 2)\n",
    "tensor2 = torch.ones(1, 2, 2) * 2\n",
    "tensor3 = torch.ones(1, 2, 2) * 3\n",
    "tensor4 = torch.ones(1, 2, 2) * 4\n",
    "\n",
    "kernelconv = torch.cat((tensor1, tensor2, tensor3, tensor4), dim=0)\n",
    "\n",
    "# pad as in the paper\n",
    "image2 = F.pad(image, (0, 1, 0, 1), value=1)\n",
    "\n",
    "# convolution + pixel shuffle\n",
    "result = F.conv2d(image2, kernelconv.unsqueeze(1), stride=1)\n",
    "pixel_shuffle = torch.nn.PixelShuffle(2)\n",
    "\n",
    "\n",
    "print(result.shape)\n",
    "out_shuffle = pixel_shuffle(result)\n",
    "print(out_shuffle.shape)\n",
    "\n",
    "plt.imshow(out_shuffle.squeeze().numpy(), vmin=0, cmap='Paired')"
   ]
  },
  {
   "cell_type": "code",
   "execution_count": 100,
   "metadata": {},
   "outputs": [
    {
     "data": {
      "text/plain": [
       "(torch.Size([16]), torch.Size([16]))"
      ]
     },
     "execution_count": 100,
     "metadata": {},
     "output_type": "execute_result"
    }
   ],
   "source": [
    "torch.flatten(kernel_deconv).shape, torch.flatten(kernelconv).shape\n",
    "\n",
    "# they have the same number of weights in his kernels!"
   ]
  },
  {
   "cell_type": "code",
   "execution_count": 86,
   "metadata": {},
   "outputs": [
    {
     "data": {
      "text/plain": [
       "tensor([[[[0., 0., 0., 0., 0., 0., 0., 0.],\n",
       "          [0., 0., 0., 0., 0., 0., 0., 0.],\n",
       "          [0., 0., 0., 0., 0., 0., 0., 0.],\n",
       "          [0., 0., 0., 0., 0., 0., 0., 0.],\n",
       "          [0., 0., 0., 0., 0., 0., 0., 0.],\n",
       "          [0., 0., 0., 0., 0., 0., 0., 0.],\n",
       "          [0., 0., 0., 0., 0., 0., 0., 0.],\n",
       "          [0., 0., 0., 0., 0., 0., 0., 0.]]]])"
      ]
     },
     "execution_count": 86,
     "metadata": {},
     "output_type": "execute_result"
    }
   ],
   "source": [
    "deconv - out_shuffle"
   ]
  },
  {
   "cell_type": "markdown",
   "metadata": {},
   "source": [
    "thus, they are exactly equivalent"
   ]
  }
 ],
 "metadata": {
  "kernelspec": {
   "display_name": "base",
   "language": "python",
   "name": "python3"
  },
  "language_info": {
   "codemirror_mode": {
    "name": "ipython",
    "version": 3
   },
   "file_extension": ".py",
   "mimetype": "text/x-python",
   "name": "python",
   "nbconvert_exporter": "python",
   "pygments_lexer": "ipython3",
   "version": "3.10.12"
  }
 },
 "nbformat": 4,
 "nbformat_minor": 2
}
